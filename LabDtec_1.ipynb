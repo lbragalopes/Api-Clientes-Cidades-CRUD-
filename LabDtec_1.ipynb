{
  "nbformat": 4,
  "nbformat_minor": 0,
  "metadata": {
    "colab": {
      "name": "LabDtec_1.ipynb",
      "provenance": [],
      "collapsed_sections": [],
      "authorship_tag": "ABX9TyN5TohfLjSHH11tfU9iQLIU",
      "include_colab_link": true
    },
    "kernelspec": {
      "name": "python3",
      "display_name": "Python 3"
    },
    "language_info": {
      "name": "python"
    }
  },
  "cells": [
    {
      "cell_type": "markdown",
      "metadata": {
        "id": "view-in-github",
        "colab_type": "text"
      },
      "source": [
        "<a href=\"https://colab.research.google.com/github/lbragalopes/ApiSprint5/blob/master/LabDtec_1.ipynb\" target=\"_parent\"><img src=\"https://colab.research.google.com/assets/colab-badge.svg\" alt=\"Open In Colab\"/></a>"
      ]
    },
    {
      "cell_type": "markdown",
      "source": [
        "**Questões que guiam o estudo para 2ª reunião LAB-DTEC**"
      ],
      "metadata": {
        "id": "khL3MDoJ2IeR"
      }
    },
    {
      "cell_type": "markdown",
      "source": [
        "1-Faça um Programa que mostre a mensagem \"Olá mundo\" na tela"
      ],
      "metadata": {
        "id": "TnNleLke2Vr4"
      }
    },
    {
      "cell_type": "code",
      "source": [
        "print ('Olá mundo')"
      ],
      "metadata": {
        "colab": {
          "base_uri": "https://localhost:8080/"
        },
        "id": "d0X2xOK92Xt-",
        "outputId": "b72f017e-26b2-4047-fedd-62f71b3ecf26"
      },
      "execution_count": null,
      "outputs": [
        {
          "output_type": "stream",
          "name": "stdout",
          "text": [
            "Olá mundo\n"
          ]
        }
      ]
    },
    {
      "cell_type": "markdown",
      "source": [
        "\n",
        "\n",
        "\n",
        "---\n",
        "\n"
      ],
      "metadata": {
        "id": "BEudvM0A3LOJ"
      }
    },
    {
      "cell_type": "markdown",
      "source": [
        "2- Faça um Programa que peça um número e então mostre a mensagem: O número informado foi [número]."
      ],
      "metadata": {
        "id": "7L_rOPCM3Rtf"
      }
    },
    {
      "cell_type": "code",
      "source": [
        "numero=input('Digite um número: ')\n",
        "print ('O número informado foi',numero)"
      ],
      "metadata": {
        "id": "OLdq2_kE3bDH",
        "colab": {
          "base_uri": "https://localhost:8080/"
        },
        "outputId": "14e059ee-f416-475f-d15f-9ce1c038fc4e"
      },
      "execution_count": 7,
      "outputs": [
        {
          "output_type": "stream",
          "name": "stdout",
          "text": [
            "Digite um número: 10\n",
            "O número informado foi 10\n"
          ]
        }
      ]
    },
    {
      "cell_type": "markdown",
      "source": [
        "\n",
        "\n",
        "---\n",
        "\n"
      ],
      "metadata": {
        "id": "GGSOnbXH6e11"
      }
    },
    {
      "cell_type": "markdown",
      "source": [
        "3- Converta as seguintes expressões matemáticas para que possam ser calculadas usando o interpretador Python. \n",
        "\n",
        "10 + 20 × 30\n",
        "\n",
        "42 ÷ 30\n",
        "\n",
        "(94 + 2) × 6 - 1\n"
      ],
      "metadata": {
        "id": "rerW4d6J5sJ3"
      }
    },
    {
      "cell_type": "code",
      "source": [
        "10 + 20 * 30"
      ],
      "metadata": {
        "colab": {
          "base_uri": "https://localhost:8080/"
        },
        "id": "5o8RiDvN5xl9",
        "outputId": "5d5a9d61-11cb-45df-f4e7-13ff9c6a6f6e"
      },
      "execution_count": 9,
      "outputs": [
        {
          "output_type": "execute_result",
          "data": {
            "text/plain": [
              "610"
            ]
          },
          "metadata": {},
          "execution_count": 9
        }
      ]
    },
    {
      "cell_type": "code",
      "source": [
        "4 ** 2 / 30"
      ],
      "metadata": {
        "colab": {
          "base_uri": "https://localhost:8080/"
        },
        "id": "0348RJqV6WPK",
        "outputId": "10d49fad-6b92-4f78-ef0c-daef453a3bf2"
      },
      "execution_count": 10,
      "outputs": [
        {
          "output_type": "execute_result",
          "data": {
            "text/plain": [
              "0.5333333333333333"
            ]
          },
          "metadata": {},
          "execution_count": 10
        }
      ]
    },
    {
      "cell_type": "code",
      "source": [
        "(9 ** 4 + 2) * 6 - 1"
      ],
      "metadata": {
        "colab": {
          "base_uri": "https://localhost:8080/"
        },
        "id": "ZH37c-Tg6ZJP",
        "outputId": "ff0063e3-9d43-4e9d-c588-0dcf7f1a1473"
      },
      "execution_count": 11,
      "outputs": [
        {
          "output_type": "execute_result",
          "data": {
            "text/plain": [
              "39377"
            ]
          },
          "metadata": {},
          "execution_count": 11
        }
      ]
    },
    {
      "cell_type": "markdown",
      "source": [
        "\n",
        "\n",
        "---\n",
        "\n"
      ],
      "metadata": {
        "id": "6p0TcIfs6g1d"
      }
    },
    {
      "cell_type": "markdown",
      "source": [
        ""
      ],
      "metadata": {
        "id": "1sjLZmQK6h3d"
      }
    }
  ]
}